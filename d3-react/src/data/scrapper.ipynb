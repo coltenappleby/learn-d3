{
 "cells": [
  {
   "cell_type": "code",
   "execution_count": 7,
   "metadata": {},
   "outputs": [
    {
     "name": "stdout",
     "output_type": "stream",
     "text": [
      "[<a href=\"/wiki/Republic_of_China_(1912%E2%80%931949)\" title=\"Republic of China (1912–1949)\">Republic of China</a>, <a href=\"/wiki/Empire_of_Japan\" title=\"Empire of Japan\">Empire of Japan</a>, <a href=\"/wiki/Second_Sino-Japanese_War\" title=\"Second Sino-Japanese War\">Second Sino-Japanese War</a>, <a href=\"/wiki/Battle_of_Wuhan\" title=\"Battle of Wuhan\">fall of Wuhan</a>, <a href=\"/wiki/Attack_on_Pearl_Harbor\" title=\"Attack on Pearl Harbor\">Pearl Harbor</a>, <a href=\"/wiki/World_War_II\" title=\"World War II\">World War II</a>, <a href=\"/wiki/Axis_powers\" title=\"Axis powers\">Axis</a>, <a href=\"/wiki/Allies_of_World_War_II\" title=\"Allies of World War II\">Allies</a>, <sup class=\"reference\" id=\"cite_ref-FOOTNOTEMitter2013173_1-0\"><a href=\"#cite_note-FOOTNOTEMitter2013173-1\">[1]</a></sup>, <a href=\"#cite_note-FOOTNOTEMitter2013173-1\">[1]</a>]\n"
     ]
    }
   ],
   "source": [
    "from bs4 import BeautifulSoup\n",
    "import requests\n",
    "\n",
    "url = \"https://en.wikipedia.org/wiki/Timeline_of_World_War_II_(1939)\"\n",
    "headers = headers = {\"User-Agent\": \"Mozilla/5.0 (Windows NT 10.0; Win64; x64)\"}\n",
    "\n",
    "page = requests.get(url, headers=headers)    \n",
    "\n",
    "soup = BeautifulSoup(page.content, 'html.parser')\n",
    "\n",
    "print(soup.find(name='dd',))"
   ]
  }
 ],
 "metadata": {
  "interpreter": {
   "hash": "916dbcbb3f70747c44a77c7bcd40155683ae19c65e1c03b4aa3499c5328201f1"
  },
  "kernelspec": {
   "display_name": "Python 3.8.10 64-bit",
   "language": "python",
   "name": "python3"
  },
  "language_info": {
   "codemirror_mode": {
    "name": "ipython",
    "version": 3
   },
   "file_extension": ".py",
   "mimetype": "text/x-python",
   "name": "python",
   "nbconvert_exporter": "python",
   "pygments_lexer": "ipython3",
   "version": "3.8.10"
  },
  "orig_nbformat": 4
 },
 "nbformat": 4,
 "nbformat_minor": 2
}
